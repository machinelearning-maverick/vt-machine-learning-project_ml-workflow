{
 "cells": [
  {
   "cell_type": "markdown",
   "id": "53564e89-b40f-4e90-ab45-180e2aa87b1b",
   "metadata": {},
   "source": [
    "# Machine Learning Project: 2. Model - choose machine learning model\n",
    "\n",
    "As always, we need to solve real-world business problems. Machine learning is just a tool that we can use."
   ]
  },
  {
   "cell_type": "markdown",
   "id": "9ba9c58b-766b-4927-bbaa-55c911f5214a",
   "metadata": {},
   "source": [
    "### 1. What is a Machine Learning Model?\n",
    "\n",
    "A machine learning model is a function that maps inputs (features) to outputs (predictions) based on learned patterns from data. It consists of:\n",
    "- **Mathematical representation**: Functions, equations, probabilities, or optimization techniques.\n",
    "- **Training process**: Adjusting parameters to minimize error.\n",
    "- **Evaluation and inference**: Making predictions on new data.\n",
    "\n",
    "---\n",
    "\n",
    "### Example: Linear Regression Model\n",
    "\n",
    "A simple linear regression model follows this equation:\n",
    "\n",
    "$$\n",
    "y = wX + b\n",
    "$$\n",
    "\n",
    "where:\n",
    "- $y$ is the predicted output\n",
    "- $X$ is the input feature\n",
    "- $w$ is the weight (coefficient)\n",
    "- $b$ is the bias (intercept)\n"
   ]
  },
  {
   "cell_type": "code",
   "execution_count": null,
   "id": "3ce33cb9-358d-490b-8a77-78866193ec40",
   "metadata": {},
   "outputs": [],
   "source": []
  },
  {
   "cell_type": "code",
   "execution_count": null,
   "id": "33fb85fb-e9a5-48dd-9838-243b1dfe7a95",
   "metadata": {},
   "outputs": [],
   "source": []
  },
  {
   "cell_type": "code",
   "execution_count": null,
   "id": "69a9aafe-7f52-4f94-a55d-44e181b845df",
   "metadata": {},
   "outputs": [],
   "source": []
  },
  {
   "cell_type": "markdown",
   "id": "2b793c43-810d-464b-b6f3-a6adb8467029",
   "metadata": {},
   "source": [
    "### Scratch-Built Implementation of Linear Regression Using Only NumPy\n",
    "\n",
    "A scratch-built implementation of Linear Regression using only NumPy and no external ML libraries like scikit-learn. This implementation will include:\n",
    "\n",
    "- **Mathematical foundation**: Using the equation $ y = wX + b $\n",
    "\n",
    "- **Gradient Descent**: To learn $w$ and $b$\n",
    "\n",
    "- **Training**: Adjusting weights based on loss\n",
    "\n",
    "- **Prediction**: Making predictions on new data\n"
   ]
  },
  {
   "cell_type": "code",
   "execution_count": 2,
   "id": "f424a72d-ef1e-4221-8c82-63ec263bd8fc",
   "metadata": {},
   "outputs": [],
   "source": [
    "import numpy as np\n",
    "\n",
    "class LinearRegressionScratch:\n",
    "    def __init__(self, learning_rate=0.01, epochs=1000):\n",
    "        self.learning_rate = learning_rate\n",
    "        self.epochs = epochs\n",
    "        self.weights = None\n",
    "        self.bias = None\n",
    "\n",
    "    def fit(self, X, y):\n",
    "        # Initialize weights and bias\n",
    "        n_samples, n_features = X.shape\n",
    "        self.weights = np.zeros(n_features)\n",
    "        self.bias = 0\n",
    "\n",
    "        # Gradient Descent\n",
    "        for _ in range(self.epochs):\n",
    "            # Compute predictions\n",
    "            y_pred = np.dot(X, self.weights) + self.bias\n",
    "            \n",
    "            # Compute gradients\n",
    "            dw = (1 / n_samples) * np.dot(X.T, (y_pred - y)) # Deriv. w.r.t weights\n",
    "            db = (1 / n_samples) * np.sum(y_pred - y) # Deriv. w.r.t bias\n",
    "            \n",
    "            # Update weights and bias\n",
    "            self.weights -= self.learning_rate * dw\n",
    "            self.bias -= self.learning_rate * db\n",
    "\n",
    "    def predict(self, X):\n",
    "        return np.dot(X, self.weights) + self.bias"
   ]
  },
  {
   "cell_type": "code",
   "execution_count": null,
   "id": "00d11789-8669-4596-8907-7c7d2e0244fb",
   "metadata": {},
   "outputs": [],
   "source": []
  },
  {
   "cell_type": "code",
   "execution_count": 3,
   "id": "723c0d11-49ee-4a79-b738-e0cfa84e4046",
   "metadata": {},
   "outputs": [
    {
     "name": "stdout",
     "output_type": "stream",
     "text": [
      "Predictions: [11.03652962 19.90030725 34.67326997]\n"
     ]
    }
   ],
   "source": [
    "# Example usage:\n",
    "if __name__ == \"__main__\":\n",
    "    # Generate some random data\n",
    "    np.random.seed(42)\n",
    "    X = np.random.rand(100, 1) * 10  # 100 samples, 1 feature\n",
    "    y = 3 * X.squeeze() + 5 + np.random.randn(100) * 2  # y = 3X + 5 + noise\n",
    "\n",
    "    # Train the model\n",
    "    model = LinearRegressionScratch(learning_rate=0.01, epochs=1000)\n",
    "    model.fit(X, y)\n",
    "\n",
    "    # Predict on new data\n",
    "    X_test = np.array([[2], [5], [10]])  # Test samples\n",
    "    predictions = model.predict(X_test)\n",
    "\n",
    "    print(\"Predictions:\", predictions)"
   ]
  },
  {
   "cell_type": "code",
   "execution_count": null,
   "id": "571f9947-29a6-4442-a2fb-a21478763591",
   "metadata": {},
   "outputs": [],
   "source": []
  },
  {
   "cell_type": "code",
   "execution_count": null,
   "id": "43c550c1-dbbb-4497-ab52-00daa5776950",
   "metadata": {},
   "outputs": [],
   "source": []
  },
  {
   "cell_type": "code",
   "execution_count": null,
   "id": "abe9f5ee-5b2c-4919-b53e-133b07f7bc82",
   "metadata": {},
   "outputs": [],
   "source": []
  },
  {
   "cell_type": "markdown",
   "id": "11cc98eb-a347-48ad-8ba5-d52013258600",
   "metadata": {},
   "source": [
    "### How It Works\n",
    "\n",
    "#### **Initialization:**\n",
    "- We start with random weights ($w$) and bias ($b$), both initialized to zero.\n",
    "\n",
    "#### **Training (Gradient Descent):**\n",
    "1. **Compute predictions:** $ y_{\\text{pred}} = wX + b $\n",
    "\n",
    "2. **Compute gradients** (partial derivatives of the loss function w.r.t $w$ and $b$).\n",
    "\n",
    "3. **Update $w$ and $b$ using gradient descent**.\n",
    "\n",
    "#### **Prediction:**\n",
    "- Once trained, the model predicts new values using: $ y = wX + b $\n"
   ]
  },
  {
   "cell_type": "code",
   "execution_count": null,
   "id": "eecb01a8-dad0-4559-ad1f-c295ad532f28",
   "metadata": {},
   "outputs": [],
   "source": []
  },
  {
   "cell_type": "code",
   "execution_count": null,
   "id": "caa55b3b-c6f1-4caf-9dd6-af6325da4d1d",
   "metadata": {},
   "outputs": [],
   "source": []
  },
  {
   "cell_type": "markdown",
   "id": "e7752a08-e81a-474e-99af-ac9dbe1b36c7",
   "metadata": {},
   "source": [
    "### 2. What is an Estimator?\n",
    "\n",
    "An estimator is any object in machine learning that can be trained on data and make predictions. It typically implements the following methods:\n",
    "- **fit(X, y)**: Learns from data\n",
    "- **predict(X)**: Makes predictions\n",
    "- **score(X, y)**: Evaluates performance\n",
    "\n",
    "Most models in **scikit-learn**, **TensorFlow/Keras**, and **PyTorch** are estimators.\n",
    "\n",
    "---\n",
    "\n",
    "### Example: Logistic Regression (for classification)\n",
    "\n",
    "A simple logistic regression model follows this equation:\n",
    "\n",
    "$$\n",
    "P(y=1 | X) = \\frac{1}{1 + e^{-(wX + b)}}\n",
    "$$\n",
    "\n",
    "where:\n",
    "- $P(y=1 | X)$ is the probability that $y = 1$ given $X$\n",
    "- $X$ is the input feature\n",
    "- $w$ is the weight (coefficient)\n",
    "- $b$ is the bias (intercept)\n",
    "- $e$ is Euler's number (≈2.718)\n"
   ]
  },
  {
   "cell_type": "code",
   "execution_count": null,
   "id": "65233cf3-6700-4126-ada2-82fb3cad28ab",
   "metadata": {},
   "outputs": [],
   "source": []
  },
  {
   "cell_type": "code",
   "execution_count": null,
   "id": "b2d1f36d-5978-4b44-b291-2e77e6774bdf",
   "metadata": {},
   "outputs": [],
   "source": []
  },
  {
   "cell_type": "code",
   "execution_count": null,
   "id": "3776a5c8-83fe-4dc8-af0a-459b42ef7135",
   "metadata": {},
   "outputs": [],
   "source": []
  },
  {
   "cell_type": "markdown",
   "id": "61557c0a-2c20-43b4-8c05-ffcb49eae37b",
   "metadata": {},
   "source": [
    "### 3. Neural Networks as ML Models\n",
    "\n",
    "For deep learning, neural networks use multiple layers of weights and activation functions:\n",
    "\n",
    "$$\n",
    "y = f(WX + B)\n",
    "$$\n",
    "\n",
    "where:\n",
    "- $y$ is the output\n",
    "- $W$ is the weight matrix\n",
    "- $X$ is the input\n",
    "- $B$ is the bias vector\n",
    "- $f$ is an activation function (e.g., ReLU, Sigmoid)\n",
    "\n",
    "---\n",
    "\n",
    "### Example: A Simple Neural Network\n",
    "\n",
    "A simple neural network consists of an input layer, one or more hidden layers, and an output layer. Each layer has neurons (nodes) that apply weights, biases, and activation functions to the inputs to produce an output.\n",
    "\n",
    "The general structure is as follows:\n",
    "- **Input Layer**: Takes in the features (input data).\n",
    "- **Hidden Layer(s)**: Processes the data using weights, biases, and activation functions.\n",
    "- **Output Layer**: Produces the final prediction or classification."
   ]
  },
  {
   "cell_type": "code",
   "execution_count": null,
   "id": "f84545f3-ac36-4ae6-9d15-f1ed884eed24",
   "metadata": {},
   "outputs": [],
   "source": []
  },
  {
   "cell_type": "code",
   "execution_count": null,
   "id": "eaa923b5-091b-46da-8f06-8300ef4d4bf7",
   "metadata": {},
   "outputs": [],
   "source": []
  },
  {
   "cell_type": "code",
   "execution_count": null,
   "id": "a8c4d00b-8fdd-45be-aa3c-acc990e2ce3b",
   "metadata": {},
   "outputs": [],
   "source": []
  },
  {
   "cell_type": "code",
   "execution_count": null,
   "id": "92ac2559-bd3d-42b9-9e63-25d84ad5024d",
   "metadata": {},
   "outputs": [],
   "source": []
  },
  {
   "cell_type": "code",
   "execution_count": 4,
   "id": "17193916-ea3f-46a0-8216-36766fa6f89c",
   "metadata": {},
   "outputs": [],
   "source": [
    "# scikit-learn Estimator - Linear Regression\n",
    "from sklearn.linear_model import LinearRegression\n",
    "model_sklearn = LinearRegression()"
   ]
  },
  {
   "cell_type": "code",
   "execution_count": null,
   "id": "fe3daa58-dda9-42eb-a31d-a1d99110dc2f",
   "metadata": {},
   "outputs": [],
   "source": []
  },
  {
   "cell_type": "code",
   "execution_count": null,
   "id": "fc1ade48-2f86-4ea6-bdae-6e49191af4dd",
   "metadata": {},
   "outputs": [],
   "source": []
  },
  {
   "cell_type": "code",
   "execution_count": null,
   "id": "176eceeb-4c9c-4d04-9200-7b74ee2cd025",
   "metadata": {},
   "outputs": [],
   "source": []
  },
  {
   "cell_type": "code",
   "execution_count": null,
   "id": "b51e166d-010e-491f-ae02-49699b70dc89",
   "metadata": {},
   "outputs": [],
   "source": []
  },
  {
   "cell_type": "code",
   "execution_count": null,
   "id": "bbfadb14-95d0-43dd-bf14-97212adb7dc8",
   "metadata": {},
   "outputs": [],
   "source": [
    "# TensorFlow/Keras Estimator - Sequential Model\n",
    "import tensorflow as tf\n",
    "from tensorflow.keras.models import Sequential\n",
    "from tensorflow.keras.layers import Dense\n",
    "\n",
    "# Create a Sequential model\n",
    "model = Sequential([\n",
    "    Dense(64, activation='relu', input_shape=(784,)),\n",
    "    Dense(64, activation='relu'),\n",
    "    Dense(10, activation='softmax')\n",
    "])\n",
    "\n",
    "# Print the model summary\n",
    "model.summary()"
   ]
  },
  {
   "cell_type": "code",
   "execution_count": null,
   "id": "bb4b5204-6785-417d-9082-fc2cf9732770",
   "metadata": {},
   "outputs": [],
   "source": []
  },
  {
   "cell_type": "code",
   "execution_count": null,
   "id": "7f3ca4c0-14db-4180-bb25-52d15b18c524",
   "metadata": {},
   "outputs": [],
   "source": []
  },
  {
   "cell_type": "code",
   "execution_count": null,
   "id": "7d320326-b5c6-4a71-a106-afb9cc77e9cd",
   "metadata": {},
   "outputs": [],
   "source": []
  },
  {
   "cell_type": "code",
   "execution_count": null,
   "id": "484a6d40-c46d-47e5-aa51-6b8291bfdf12",
   "metadata": {},
   "outputs": [],
   "source": []
  },
  {
   "cell_type": "code",
   "execution_count": null,
   "id": "950c5266-497b-4fed-8998-29aed0486627",
   "metadata": {},
   "outputs": [],
   "source": [
    "# PyTorch Estimator - Simple Neural Network\n",
    "import torch\n",
    "import torch.nn as nn\n",
    "model_pytorch = nn.Linear(1, 1) # Single-layer linear model"
   ]
  },
  {
   "cell_type": "code",
   "execution_count": null,
   "id": "84efa84b-dd22-4a6b-ae5d-3b482edd5632",
   "metadata": {},
   "outputs": [],
   "source": []
  },
  {
   "cell_type": "code",
   "execution_count": null,
   "id": "3800164a-b1d0-4114-a46a-719177c43658",
   "metadata": {},
   "outputs": [],
   "source": []
  },
  {
   "cell_type": "code",
   "execution_count": null,
   "id": "3b8c534e-6945-440d-b907-e5533ad6047d",
   "metadata": {},
   "outputs": [],
   "source": []
  },
  {
   "cell_type": "code",
   "execution_count": null,
   "id": "7d43154f-9e5f-4a7a-973a-9c69c5bcee59",
   "metadata": {},
   "outputs": [],
   "source": []
  },
  {
   "cell_type": "code",
   "execution_count": null,
   "id": "5bc2bb59-29e4-4b43-9623-3603d8b780da",
   "metadata": {},
   "outputs": [],
   "source": []
  },
  {
   "cell_type": "code",
   "execution_count": null,
   "id": "bfdbc7e5-46f7-48da-89e3-b2e63305af26",
   "metadata": {},
   "outputs": [],
   "source": []
  },
  {
   "cell_type": "code",
   "execution_count": null,
   "id": "7cb2ec4c-3a0d-40ea-aecb-0893b8796ef6",
   "metadata": {},
   "outputs": [],
   "source": []
  },
  {
   "cell_type": "code",
   "execution_count": null,
   "id": "1ebdc42f-2692-4fce-9aa9-4c10934bffca",
   "metadata": {},
   "outputs": [],
   "source": []
  },
  {
   "cell_type": "code",
   "execution_count": null,
   "id": "b61c5fd3-eff4-44a8-9050-fbca5fcc880a",
   "metadata": {},
   "outputs": [],
   "source": []
  },
  {
   "cell_type": "code",
   "execution_count": null,
   "id": "f306bf60-3cac-4d07-8e4f-b42e29941274",
   "metadata": {},
   "outputs": [],
   "source": []
  },
  {
   "cell_type": "code",
   "execution_count": null,
   "id": "e8a15143-d642-4d63-ac7a-8a7800cd5710",
   "metadata": {},
   "outputs": [],
   "source": []
  }
 ],
 "metadata": {
  "kernelspec": {
   "display_name": "Python 3 (ipykernel)",
   "language": "python",
   "name": "python3"
  },
  "language_info": {
   "codemirror_mode": {
    "name": "ipython",
    "version": 3
   },
   "file_extension": ".py",
   "mimetype": "text/x-python",
   "name": "python",
   "nbconvert_exporter": "python",
   "pygments_lexer": "ipython3",
   "version": "3.13.2"
  }
 },
 "nbformat": 4,
 "nbformat_minor": 5
}
