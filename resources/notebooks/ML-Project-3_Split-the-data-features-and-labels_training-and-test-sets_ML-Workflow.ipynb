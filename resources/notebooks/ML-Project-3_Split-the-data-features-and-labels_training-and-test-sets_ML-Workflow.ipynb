{
 "cells": [
  {
   "cell_type": "markdown",
   "id": "86d98b73-96bb-44dc-a088-c63e7b10852a",
   "metadata": {},
   "source": [
    "# Machine Learning Project: 3. Splitting the data - ```features``` & ```labels``` and ```training``` & ```test``` data sets"
   ]
  },
  {
   "cell_type": "code",
   "execution_count": 1,
   "id": "2cc7653a-6590-4606-a671-638c09fcbcaf",
   "metadata": {},
   "outputs": [],
   "source": [
    "import pandas as pd"
   ]
  },
  {
   "cell_type": "code",
   "execution_count": 2,
   "id": "d2a7eabb-bc4c-4a1b-b147-81b013c7e093",
   "metadata": {},
   "outputs": [],
   "source": [
    "df_house = pd.read_csv(\"data/house.csv\")"
   ]
  },
  {
   "cell_type": "code",
   "execution_count": null,
   "id": "f75f18de-a4f3-4569-8740-d292877cdcdc",
   "metadata": {},
   "outputs": [],
   "source": [
    "df_house"
   ]
  },
  {
   "cell_type": "code",
   "execution_count": 4,
   "id": "bcfd49e4-fc8c-46c4-9200-cdbe48d2f9c6",
   "metadata": {},
   "outputs": [],
   "source": [
    "# X - training input samples, features\n",
    "X = df_house.drop(\"SalePrice\", axis=1)"
   ]
  },
  {
   "cell_type": "code",
   "execution_count": 5,
   "id": "6f6b5bc7-be6d-4600-8ab9-e649b306b77e",
   "metadata": {},
   "outputs": [],
   "source": [
    "# y - training input labels, the desired result, the target value\n",
    "y = df_house[\"SalePrice\"]"
   ]
  },
  {
   "cell_type": "code",
   "execution_count": 11,
   "id": "4b81efe9-78ba-4097-b76b-08e1e40d22ab",
   "metadata": {},
   "outputs": [],
   "source": [
    "# Split the data into training and test sets\n",
    "# train_test_split() function splits arrays or matrices\n",
    "# into random train and test susets\n",
    "\n",
    "from sklearn.model_selection import train_test_split"
   ]
  },
  {
   "cell_type": "code",
   "execution_count": 10,
   "id": "7dd0d141-65d2-4d5a-bba0-279467cd474a",
   "metadata": {},
   "outputs": [],
   "source": [
    "X_train, X_test, y_train, y_test = train_test_split(\n",
    "                                      X, y, test_size=0.2)"
   ]
  },
  {
   "cell_type": "code",
   "execution_count": null,
   "id": "39fd2d62-43aa-4eff-8843-ef34e7510c22",
   "metadata": {},
   "outputs": [],
   "source": []
  },
  {
   "cell_type": "code",
   "execution_count": null,
   "id": "3312c8bd-768c-4daf-bf3b-d93835e0171d",
   "metadata": {},
   "outputs": [],
   "source": []
  },
  {
   "cell_type": "code",
   "execution_count": null,
   "id": "9ef04d32-cfed-4966-93a2-57457825c5e6",
   "metadata": {},
   "outputs": [],
   "source": []
  }
 ],
 "metadata": {
  "kernelspec": {
   "display_name": "Python 3 (ipykernel)",
   "language": "python",
   "name": "python3"
  },
  "language_info": {
   "codemirror_mode": {
    "name": "ipython",
    "version": 3
   },
   "file_extension": ".py",
   "mimetype": "text/x-python",
   "name": "python",
   "nbconvert_exporter": "python",
   "pygments_lexer": "ipython3",
   "version": "3.13.2"
  }
 },
 "nbformat": 4,
 "nbformat_minor": 5
}
